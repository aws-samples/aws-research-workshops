{
 "cells": [
  {
   "cell_type": "code",
   "execution_count": null,
   "id": "de979d30",
   "metadata": {},
   "outputs": [],
   "source": [
    "import pcluster_cost_estimator\n",
    "import importlib\n",
    "import sys \n",
    "\n",
    "importlib.reload(pcluster_cost_estimator)\n",
    "\n",
    "cur_db = 'athenacurcfn_my_main_cur_in_athena'\n",
    "cur_table = 'my_main_cur_in_athena'\n",
    "\n",
    "bucket_name = 'jxuamazons3'\n",
    "path_name = 'athena'\n",
    "cluster_name = 'myTestCluster'\n",
    "cur_year = '2021'\n",
    "cur_month = '5'\n",
    "\n",
    "\n",
    "pce = PClusterCostEstimator(cur_db, cur_table, bucket_name, path_name)\n",
    "\n"
   ]
  },
  {
   "cell_type": "markdown",
   "id": "aacaa0b9",
   "metadata": {},
   "source": [
    "### List the cost of the PCluster \n"
   ]
  },
  {
   "cell_type": "code",
   "execution_count": null,
   "id": "3b376552",
   "metadata": {},
   "outputs": [],
   "source": [
    "monthly_df = pce.cluster_monthly_cost(cluster_name, cur_year)\n",
    "monthly_df"
   ]
  },
  {
   "cell_type": "code",
   "execution_count": null,
   "id": "92d17014",
   "metadata": {},
   "outputs": [],
   "source": []
  },
  {
   "cell_type": "code",
   "execution_count": null,
   "id": "feca5fcc",
   "metadata": {},
   "outputs": [],
   "source": [
    "daily_df = pce.cluster_daily_per_month(cluster_name, cur_year, cur_month)\n",
    "daily_df"
   ]
  },
  {
   "cell_type": "code",
   "execution_count": null,
   "id": "06484628",
   "metadata": {},
   "outputs": [],
   "source": [
    "daily_df_detail = pce.cluster_daily_per_month_detail(cluster_name, cur_year, cur_month)\n",
    "daily_df_detail"
   ]
  },
  {
   "cell_type": "code",
   "execution_count": null,
   "id": "4850d138",
   "metadata": {},
   "outputs": [],
   "source": [
    "import sys\n",
    "del sys.modules['pcluster_cost_estimator']\n",
    "from pcluster_cost_estimator import PClusterCostEstimator\n",
    "\n",
    "pce = PClusterCostEstimator(cur_db, cur_table, bucket_name, path_name)\n",
    "\n",
    "daily_queue_df = pce.cluster_daily_per_queue_month(cluster_name, cur_year, cur_month)\n",
    "daily_queue_df"
   ]
  },
  {
   "cell_type": "code",
   "execution_count": null,
   "id": "055de140",
   "metadata": {},
   "outputs": [],
   "source": []
  }
 ],
 "metadata": {
  "kernelspec": {
   "display_name": "conda_python3",
   "language": "python",
   "name": "conda_python3"
  },
  "language_info": {
   "codemirror_mode": {
    "name": "ipython",
    "version": 3
   },
   "file_extension": ".py",
   "mimetype": "text/x-python",
   "name": "python",
   "nbconvert_exporter": "python",
   "pygments_lexer": "ipython3",
   "version": "3.6.13"
  }
 },
 "nbformat": 4,
 "nbformat_minor": 5
}
